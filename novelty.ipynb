{
 "cells": [
  {
   "cell_type": "code",
   "execution_count": 2,
   "metadata": {
    "scrolled": true
   },
   "outputs": [
    {
     "name": "stdout",
     "output_type": "stream",
     "text": [
      "Requirement already satisfied: tensorflow-hub in c:\\users\\mrric\\anaconda3\\lib\\site-packages (0.8.0)\n",
      "Requirement already satisfied: protobuf>=3.8.0 in c:\\users\\mrric\\anaconda3\\lib\\site-packages (from tensorflow-hub) (3.11.3)\n",
      "Requirement already satisfied: six>=1.12.0 in c:\\users\\mrric\\anaconda3\\lib\\site-packages (from tensorflow-hub) (1.14.0)\n",
      "Requirement already satisfied: numpy>=1.12.0 in c:\\users\\mrric\\anaconda3\\lib\\site-packages (from tensorflow-hub) (1.18.3)\n",
      "Requirement already satisfied: setuptools in c:\\users\\mrric\\anaconda3\\lib\\site-packages (from protobuf>=3.8.0->tensorflow-hub) (46.0.0)\n"
     ]
    }
   ],
   "source": [
    "import pandas as pd\n",
    "import numpy as np\n",
    "import matplotlib.pyplot as plt\n",
    "from sklearn.neighbors import LocalOutlierFactor\n",
    "from sklearn.datasets import fetch_20newsgroups\n",
    "from sklearn.preprocessing import StandardScaler\n",
    "import tensorflow as tf\n",
    "!pip install tensorflow-hub\n",
    "import tensorflow_hub as hub\n",
    "\n",
    "module_url = \"https://tfhub.dev/google/universal-sentence-encoder/4\" \n",
    "embed = hub.load(module_url)"
   ]
  },
  {
   "cell_type": "code",
   "execution_count": null,
   "metadata": {},
   "outputs": [],
   "source": [
    "# Load extracted n26 data\n",
    "vectors = pd.read_csv(\"data/extracted_n26_tsv_vecs.tsv\", delimiter='\\t|,', header=None, engine='python')\n",
    "vectors = vectors.drop(vectors.columns[0], axis=1)\n",
    "metadata = pd.read_csv(\"data/extracted_n26_tsv_metadata.tsv\", delimiter='\\t')\n",
    "\n",
    "vec_meta = vectors.join(metadata)\n",
    "train_data = vec_meta[vec_meta['FAQ_id'] <= 130] # only train on first 130 classes\n",
    "train_data = train_data.drop(['FAQ_id', 'locale', 'market', 'question'], axis=1)\n",
    "\n",
    "test_novel = vec_meta[(vec_meta['FAQ_id'] > 130) & (vec_meta['FAQ_id'] < 140)]\n",
    "test_novel = test_novel.drop(['FAQ_id', 'locale', 'market', 'question'], axis=1)\n",
    "\n",
    "test_not_novel = train_data.sample(n=30, random_state=1) # random sample of non-novel clusters\n",
    "train_data = pd.concat([train_data,test_not_novel]).drop_duplicates(keep=False) # train data cannot contain test data"
   ]
  },
  {
   "cell_type": "code",
   "execution_count": 3,
   "metadata": {
    "scrolled": true
   },
   "outputs": [
    {
     "name": "stdout",
     "output_type": "stream",
     "text": [
      "Loading 20newsgroups data...\n",
      "Loading tensorflow session...\n",
      "Embedding training text...\n",
      "Embedding novel test text...\n",
      "Embedding non-novel test text...\n",
      "[[-0.02493628 -0.00875452 -0.03682045 ...  0.06833718  0.01936085\n",
      "  -0.04084104]\n",
      " [-0.05356552 -0.00455837 -0.06219256 ...  0.05972339 -0.01134234\n",
      "  -0.07541798]\n",
      " [ 0.02706743 -0.05515036 -0.05686761 ...  0.01804754  0.0138009\n",
      "  -0.03079167]\n",
      " ...\n",
      " [ 0.00095232 -0.0658168  -0.06965939 ...  0.03900306 -0.02887024\n",
      "  -0.03771075]\n",
      " [-0.03471673 -0.01773412 -0.02311416 ...  0.05316818 -0.04348731\n",
      "  -0.03696968]\n",
      " [ 0.04498163  0.05106161 -0.0536316  ... -0.01554263 -0.07532571\n",
      "  -0.05781196]]\n",
      "[[-3.8983472e-02  4.6628855e-02 -4.2750228e-02 ...  6.3185364e-02\n",
      "   4.8586439e-02 -5.0488707e-02]\n",
      " [-3.0889332e-05 -5.7217997e-02  2.6093222e-02 ...  3.1696301e-02\n",
      "  -6.0166493e-02 -5.1477849e-02]\n",
      " [ 3.7204765e-02  3.2482296e-02 -5.1061399e-02 ...  6.4168021e-02\n",
      "  -2.8178463e-02 -3.0378869e-02]\n",
      " ...\n",
      " [-1.2353746e-02 -5.8908980e-02 -5.1708084e-02 ...  5.4742273e-02\n",
      "  -1.7764550e-02 -4.3340690e-02]\n",
      " [-7.1316823e-02 -1.7166175e-02 -1.5004803e-02 ... -4.1110326e-02\n",
      "  -4.6790406e-02 -7.3208995e-02]\n",
      " [-6.0558096e-02  6.3393973e-02  3.1355716e-02 ...  5.9503339e-02\n",
      "   6.3694194e-02 -7.1020775e-02]]\n"
     ]
    },
    {
     "ename": "NameError",
     "evalue": "name 'test_not_' is not defined",
     "output_type": "error",
     "traceback": [
      "\u001b[1;31m---------------------------------------------------------------------------\u001b[0m",
      "\u001b[1;31mNameError\u001b[0m                                 Traceback (most recent call last)",
      "\u001b[1;32m<ipython-input-3-b3b455832511>\u001b[0m in \u001b[0;36m<module>\u001b[1;34m\u001b[0m\n\u001b[0;32m     16\u001b[0m \u001b[0mprint\u001b[0m\u001b[1;33m(\u001b[0m\u001b[0mtrain\u001b[0m\u001b[1;33m)\u001b[0m\u001b[1;33m\u001b[0m\u001b[1;33m\u001b[0m\u001b[0m\n\u001b[0;32m     17\u001b[0m \u001b[0mprint\u001b[0m\u001b[1;33m(\u001b[0m\u001b[0mtest_novel\u001b[0m\u001b[1;33m)\u001b[0m\u001b[1;33m\u001b[0m\u001b[1;33m\u001b[0m\u001b[0m\n\u001b[1;32m---> 18\u001b[1;33m \u001b[0mprint\u001b[0m\u001b[1;33m(\u001b[0m\u001b[0mtest_not_\u001b[0m\u001b[1;33m)\u001b[0m\u001b[1;33m\u001b[0m\u001b[1;33m\u001b[0m\u001b[0m\n\u001b[0m\u001b[0;32m     19\u001b[0m \u001b[1;33m\u001b[0m\u001b[0m\n\u001b[0;32m     20\u001b[0m \u001b[0mprint\u001b[0m\u001b[1;33m(\u001b[0m\u001b[0mtrain\u001b[0m\u001b[1;33m.\u001b[0m\u001b[0mshape\u001b[0m\u001b[1;33m)\u001b[0m\u001b[1;33m\u001b[0m\u001b[1;33m\u001b[0m\u001b[0m\n",
      "\u001b[1;31mNameError\u001b[0m: name 'test_not_' is not defined"
     ]
    }
   ],
   "source": [
    "print(\"Loading 20newsgroups data...\")\n",
    "newsgroups_train = fetch_20newsgroups(subset='train', categories=['sci.crypt', 'sci.electronics', 'sci.med', 'sci.space'])\n",
    "newsgroups_test_novel = fetch_20newsgroups(subset='test', categories=['rec.autos', 'rec.motorcycles'])\n",
    "newsgroups_test_not_novel = fetch_20newsgroups(subset='test', categories=['sci.crypt', 'sci.electronics', 'sci.med', 'sci.space'])\n",
    "\n",
    "print(\"Loading tensorflow session...\")\n",
    "with tf.Session() as session:\n",
    "    session.run([tf.global_variables_initializer(), tf.tables_initializer()])\n",
    "    print(\"Embedding training text...\")\n",
    "    train = session.run(embed(newsgroups_train.data))\n",
    "    print(\"Embedding novel test text...\")\n",
    "    test_novel = session.run(embed(newsgroups_test_novel.data))\n",
    "    print(\"Embedding non-novel test text...\")\n",
    "    test_not_novel = session.run(embed(newsgroups_test_not_novel.data))"
   ]
  },
  {
   "cell_type": "code",
   "execution_count": 4,
   "metadata": {},
   "outputs": [
    {
     "name": "stdout",
     "output_type": "stream",
     "text": [
      "[[-0.02493628 -0.00875452 -0.03682045 ...  0.06833718  0.01936085\n",
      "  -0.04084104]\n",
      " [-0.05356552 -0.00455837 -0.06219256 ...  0.05972339 -0.01134234\n",
      "  -0.07541798]\n",
      " [ 0.02706743 -0.05515036 -0.05686761 ...  0.01804754  0.0138009\n",
      "  -0.03079167]\n",
      " ...\n",
      " [ 0.00095232 -0.0658168  -0.06965939 ...  0.03900306 -0.02887024\n",
      "  -0.03771075]\n",
      " [-0.03471673 -0.01773412 -0.02311416 ...  0.05316818 -0.04348731\n",
      "  -0.03696968]\n",
      " [ 0.04498163  0.05106161 -0.0536316  ... -0.01554263 -0.07532571\n",
      "  -0.05781196]]\n",
      "[[-3.8983472e-02  4.6628855e-02 -4.2750228e-02 ...  6.3185364e-02\n",
      "   4.8586439e-02 -5.0488707e-02]\n",
      " [-3.0889332e-05 -5.7217997e-02  2.6093222e-02 ...  3.1696301e-02\n",
      "  -6.0166493e-02 -5.1477849e-02]\n",
      " [ 3.7204765e-02  3.2482296e-02 -5.1061399e-02 ...  6.4168021e-02\n",
      "  -2.8178463e-02 -3.0378869e-02]\n",
      " ...\n",
      " [-1.2353746e-02 -5.8908980e-02 -5.1708084e-02 ...  5.4742273e-02\n",
      "  -1.7764550e-02 -4.3340690e-02]\n",
      " [-7.1316823e-02 -1.7166175e-02 -1.5004803e-02 ... -4.1110326e-02\n",
      "  -4.6790406e-02 -7.3208995e-02]\n",
      " [-6.0558096e-02  6.3393973e-02  3.1355716e-02 ...  5.9503339e-02\n",
      "   6.3694194e-02 -7.1020775e-02]]\n",
      "[[-0.04586431 -0.01815685  0.0467432  ...  0.06359069 -0.04437151\n",
      "  -0.0577886 ]\n",
      " [-0.04130472  0.06760888  0.03117718 ...  0.04910238  0.08043109\n",
      "  -0.03515963]\n",
      " [-0.04428945 -0.02869415  0.02284706 ...  0.05893338 -0.05704865\n",
      "  -0.05888   ]\n",
      " ...\n",
      " [-0.03939624  0.01480681 -0.06007813 ...  0.07263354 -0.02795617\n",
      "  -0.07007724]\n",
      " [-0.03623437 -0.05630179  0.03620161 ...  0.01790493 -0.02396466\n",
      "  -0.02688692]\n",
      " [-0.01882719 -0.00016968  0.04674735 ...  0.04573265 -0.04997804\n",
      "  -0.03232166]]\n",
      "(2373, 512)\n",
      "(794, 512)\n",
      "(1579, 512)\n"
     ]
    }
   ],
   "source": [
    "print(train)\n",
    "print(test_novel)\n",
    "print(test_not_novel)\n",
    "\n",
    "print(train.shape)\n",
    "print(test_novel.shape)\n",
    "print(test_not_novel.shape)"
   ]
  },
  {
   "cell_type": "code",
   "execution_count": null,
   "metadata": {},
   "outputs": [],
   "source": [
    "# Local outlier detection\n",
    "lof = LocalOutlierFactor(n_neighbors=10, contamination='auto')\n",
    "train_data['lof'] = lof.fit_predict(train_data)\n",
    "\n",
    "# Getting the negative LOF score\n",
    "train_data['negative_outlier_factor'] = lof.negative_outlier_factor_\n",
    "# print(train_data.head)\n",
    "\n",
    "outliers = train_data[train_data['lof'] == -1]\n",
    "print(outliers.head)"
   ]
  },
  {
   "cell_type": "code",
   "execution_count": 16,
   "metadata": {},
   "outputs": [
    {
     "name": "stdout",
     "output_type": "stream",
     "text": [
      "Size: 524\n",
      "Accuracy: 0.6599496221662469\n",
      "Size: 1055\n",
      "Accuracy: 0.6681443951868271\n"
     ]
    }
   ],
   "source": [
    "# Novelty detection\n",
    "lof = LocalOutlierFactor(n_neighbors=100, contamination=0.25, novelty=True)\n",
    "lof.fit(train)\n",
    "\n",
    "# Should predict -1 for all elements in test_novel\n",
    "y_pred_test_novel = lof.predict(test_novel)\n",
    "num_test_novel = y_pred_test_novel[y_pred_test_novel == -1].size\n",
    "print(\"Size: \" + str(num_test_novel))\n",
    "print(\"Accuracy: \" + str(num_test_novel / test_novel.shape[0]))\n",
    "\n",
    "# Should predict 1 for all elements in test_not_novel\n",
    "y_pred_test_not_novel = lof.predict(test_not_novel)\n",
    "num_test_not_novel = y_pred_test_not_novel[y_pred_test_not_novel == 1].size\n",
    "print(\"Size: \" + str(num_test_not_novel))\n",
    "print(\"Accuracy: \" + str(num_test_not_novel / test_not_novel.shape[0]))"
   ]
  }
 ],
 "metadata": {
  "kernelspec": {
   "display_name": "Python 3",
   "language": "python",
   "name": "python3"
  },
  "language_info": {
   "codemirror_mode": {
    "name": "ipython",
    "version": 3
   },
   "file_extension": ".py",
   "mimetype": "text/x-python",
   "name": "python",
   "nbconvert_exporter": "python",
   "pygments_lexer": "ipython3",
   "version": "3.7.4"
  }
 },
 "nbformat": 4,
 "nbformat_minor": 2
}
